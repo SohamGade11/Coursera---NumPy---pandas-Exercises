{
 "cells": [
  {
   "cell_type": "markdown",
   "metadata": {},
   "source": [
    "# Scales used in PANDAS\n",
    "\n",
    "There are atleast 4 scales used in pandas which will carry out stattistical tests for machine learning and advanced calculations. These are based off on the order of the data and that if these datas are separated equally or with respect to each other."
   ]
  },
  {
   "cell_type": "markdown",
   "metadata": {},
   "source": [
    "## astype()  Function"
   ]
  },
  {
   "cell_type": "code",
   "execution_count": 28,
   "metadata": {},
   "outputs": [
    {
     "name": "stdout",
     "output_type": "stream",
     "text": [
      "          Grades\n",
      "excellent     A+\n",
      "excellent      A\n",
      "good          B+\n",
      "good           B\n",
      "ok            C+\n"
     ]
    }
   ],
   "source": [
    "# the following is an example of the ordinal scaling, including the different grades\n",
    "\n",
    "import pandas as pd\n",
    "import numpy as np\n",
    "\n",
    "# lets create a graded series\n",
    "\n",
    "df = pd.DataFrame(['A+', 'A', 'B+', 'B', 'C+', 'C', 'D+', 'D'], columns = ['Grades'], \n",
    "                  index = ['excellent', 'excellent', 'good', 'good', 'ok', 'ok', 'poor', 'poor'])\n",
    "print(df.head())\n",
    "\n",
    "# as seen above it can be seen as the dtype of the values is object since only string values are inserted in the\n",
    "# Series or Dataframe"
   ]
  },
  {
   "cell_type": "code",
   "execution_count": 42,
   "metadata": {},
   "outputs": [
    {
     "data": {
      "text/plain": [
       "Grades    object\n",
       "dtype: object"
      ]
     },
     "execution_count": 42,
     "metadata": {},
     "output_type": "execute_result"
    }
   ],
   "source": [
    "df.dtypes    # to check the dataframe of an object the dtypes attribute is used (In series .dtype is used)\n",
    "# these are used without the paranthesis"
   ]
  },
  {
   "cell_type": "code",
   "execution_count": 73,
   "metadata": {},
   "outputs": [
    {
     "data": {
      "text/plain": [
       "excellent    A+\n",
       "excellent     A\n",
       "good         B+\n",
       "good          B\n",
       "ok           C+\n",
       "ok            C\n",
       "poor         D+\n",
       "poor          D\n",
       "Name: Grades, dtype: category\n",
       "Categories (8, object): [D < D+ < C < C+ < B < B+ < A < A+]"
      ]
     },
     "execution_count": 73,
     "metadata": {},
     "output_type": "execute_result"
    }
   ],
   "source": [
    "# We can explicitely change the dtype of this data using the 'astype()' function\n",
    "\n",
    "df['Grades'].astype('category').head()  # this will change the dtypes of the dataframe to category\n",
    "\n",
    "# here the dtype of the objects has been changed to category. Along with this we can tell pandas that the values are\n",
    "# in an order (this means that 'A' comes before 'B+'). It has been shown in the following.\n",
    "\n",
    "categorical_df = pd.CategoricalDtype(['D', 'D+', 'C', 'C+', 'B', 'B+', 'A', 'A+'], ordered = True)\n",
    "# this is now turned into an ordinal data *****\n",
    "# now we can just pass the above in the astype function to create an ordinal version of the dataframe\n",
    "\n",
    "grades = df['Grades'].astype(categorical_df)\n",
    "grades\n",
    "# As you can see from the above, when dtype was object there was no difference between the values in 'Grades'\n",
    "# with the help of 'pd.CategoricalDtype' and 'astype()' function we can insert a hierarchy of values\n",
    "# THIS IS HELPFUL DURING COMARISONS AND BOOLEAN MASKING"
   ]
  },
  {
   "cell_type": "code",
   "execution_count": 75,
   "metadata": {},
   "outputs": [
    {
     "data": {
      "text/plain": [
       "excellent    A+\n",
       "excellent     A\n",
       "good         B+\n",
       "good          B\n",
       "ok           C+\n",
       "Name: Grades, dtype: category\n",
       "Categories (8, object): [D < D+ < C < C+ < B < B+ < A < A+]"
      ]
     },
     "execution_count": 75,
     "metadata": {},
     "output_type": "execute_result"
    }
   ],
   "source": [
    "# The difference can be seen in the following, if we wanted, all grades greater than 'C'\n",
    "\n",
    "# using object dtype\n",
    "df[df['Grades']>'C']  \n",
    "# here we can see that even 'D' is getting print, since it is comparing as a string and not a grade\n",
    "\n",
    "# using categorical dtype\n",
    "grades[grades>'C']\n",
    "# here the grades that greater than 'C' instead of a string are return \n",
    "# NOTE : This is only possible if the list is ordered = True using the 'CategoricalDtype' function from pd."
   ]
  },
  {
   "cell_type": "markdown",
   "metadata": {},
   "source": [
    "### There is another operation which can change the interval and ratio scaled data (e.g, Numeric Grade) into categorical data.\n",
    "* This is useful while visualizing the frequencies of the categories\n",
    "* Historgrams are generally used by converting the interval and ratio data\n",
    "\n",
    "## Pandas has a function known as 'cut()' that takes in array-like structure such as a Series or column of a DataFrame as an agrument and also takes a number of bins to be used. (These bins are equally spaced)"
   ]
  },
  {
   "cell_type": "code",
   "execution_count": 85,
   "metadata": {},
   "outputs": [
    {
     "data": {
      "text/plain": [
       "STNAME\n",
       "Alabama                  (11706.087, 327322.823]\n",
       "Alaska                   (11706.087, 327322.823]\n",
       "Arizona                 (327322.823, 642309.586]\n",
       "Arkansas                 (11706.087, 327322.823]\n",
       "California              (327322.823, 642309.586]\n",
       "Colorado                 (11706.087, 327322.823]\n",
       "Connecticut             (327322.823, 642309.586]\n",
       "Delaware                 (11706.087, 327322.823]\n",
       "District of Columbia    (327322.823, 642309.586]\n",
       "Florida                  (11706.087, 327322.823]\n",
       "Georgia                  (11706.087, 327322.823]\n",
       "Hawaii                   (11706.087, 327322.823]\n",
       "Idaho                    (11706.087, 327322.823]\n",
       "Illinois                 (11706.087, 327322.823]\n",
       "Indiana                  (11706.087, 327322.823]\n",
       "Iowa                     (11706.087, 327322.823]\n",
       "Kansas                   (11706.087, 327322.823]\n",
       "Kentucky                 (11706.087, 327322.823]\n",
       "Louisiana                (11706.087, 327322.823]\n",
       "Maine                    (11706.087, 327322.823]\n",
       "Maryland                 (11706.087, 327322.823]\n",
       "Massachusetts           (327322.823, 642309.586]\n",
       "Michigan                 (11706.087, 327322.823]\n",
       "Minnesota                (11706.087, 327322.823]\n",
       "Mississippi              (11706.087, 327322.823]\n",
       "Missouri                 (11706.087, 327322.823]\n",
       "Montana                  (11706.087, 327322.823]\n",
       "Nebraska                 (11706.087, 327322.823]\n",
       "Nevada                   (11706.087, 327322.823]\n",
       "New Hampshire            (11706.087, 327322.823]\n",
       "New Jersey              (327322.823, 642309.586]\n",
       "New Mexico               (11706.087, 327322.823]\n",
       "New York                 (11706.087, 327322.823]\n",
       "North Carolina           (11706.087, 327322.823]\n",
       "North Dakota             (11706.087, 327322.823]\n",
       "Ohio                     (11706.087, 327322.823]\n",
       "Oklahoma                 (11706.087, 327322.823]\n",
       "Oregon                   (11706.087, 327322.823]\n",
       "Pennsylvania             (11706.087, 327322.823]\n",
       "Rhode Island             (11706.087, 327322.823]\n",
       "South Carolina           (11706.087, 327322.823]\n",
       "South Dakota             (11706.087, 327322.823]\n",
       "Tennessee                (11706.087, 327322.823]\n",
       "Texas                    (11706.087, 327322.823]\n",
       "Utah                     (11706.087, 327322.823]\n",
       "Vermont                  (11706.087, 327322.823]\n",
       "Virginia                 (11706.087, 327322.823]\n",
       "Washington               (11706.087, 327322.823]\n",
       "West Virginia            (11706.087, 327322.823]\n",
       "Wisconsin                (11706.087, 327322.823]\n",
       "Wyoming                  (11706.087, 327322.823]\n",
       "Name: CENSUS2010POP, dtype: category\n",
       "Categories (2, interval[float64]): [(11706.087, 327322.823] < (327322.823, 642309.586]]"
      ]
     },
     "execution_count": 85,
     "metadata": {},
     "output_type": "execute_result"
    }
   ],
   "source": [
    "df = pd.read_csv('data/census.csv')\n",
    "df = df[df['SUMLEV'] == 50]\n",
    "\n",
    "df = df.set_index('STNAME').groupby(level = 0)['CENSUS2010POP'].agg(np.nanmean)\n",
    "\n",
    "pd.cut(df, 2)      # passed in the dataframe and the bin number"
   ]
  }
 ],
 "metadata": {
  "kernelspec": {
   "display_name": "Python 3",
   "language": "python",
   "name": "python3"
  },
  "language_info": {
   "codemirror_mode": {
    "name": "ipython",
    "version": 3
   },
   "file_extension": ".py",
   "mimetype": "text/x-python",
   "name": "python",
   "nbconvert_exporter": "python",
   "pygments_lexer": "ipython3",
   "version": "3.6.8"
  }
 },
 "nbformat": 4,
 "nbformat_minor": 4
}
