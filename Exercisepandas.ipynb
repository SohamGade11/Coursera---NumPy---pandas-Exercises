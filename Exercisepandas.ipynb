{
 "cells": [
  {
   "cell_type": "markdown",
   "metadata": {},
   "source": [
    "# pandas\n",
    "* 'pandas' is important in the field of data science as it contains data manipulation and data structure tools, that are used for fast data cleaning and analysis.\n",
    "* pandas is used mostly along with numerical computing tools such as NumPy and SciPy, data visualization tools such as matplotlib and analytical libraries such as Sci-kit learn, statsmodels\n",
    "* pandas is designed to work with tabular and heterogeneous data (unlike NumPy which is best suited for homogeneous numerical array data"
   ]
  },
  {
   "cell_type": "code",
   "execution_count": 1,
   "metadata": {},
   "outputs": [],
   "source": [
    "import pandas as pd\n",
    "import numpy as np\n",
    "# pandas has two important data structures known as \"Series\" & \"DataFrame\", and are commonly used.\n"
   ]
  },
  {
   "cell_type": "markdown",
   "metadata": {},
   "source": [
    "### Series"
   ]
  },
  {
   "cell_type": "code",
   "execution_count": 2,
   "metadata": {},
   "outputs": [
    {
     "name": "stdout",
     "output_type": "stream",
     "text": [
      "0    1\n",
      "1    4\n",
      "2    6\n",
      "3    7\n",
      "dtype: int64\n",
      "[1 4 6 7]\n",
      "RangeIndex(start=0, stop=4, step=1)\n",
      "a    3\n",
      "b    6\n",
      "c    7\n",
      "d    2\n",
      "dtype: int64\n",
      "Index(['a', 'b', 'c', 'd'], dtype='object')\n",
      "7 2\n",
      "a    3\n",
      "c    7\n",
      "d    2\n",
      "dtype: int64\n"
     ]
    }
   ],
   "source": [
    "# Series in pandas is a one-dimensional array-like object, that contains, sequence of values and\n",
    "# associated array of data labels called its index\n",
    "\n",
    "exm = pd.Series([1, 4, 6, 7])\n",
    "print(exm)\n",
    "\n",
    "print(exm.values)  # a 'Series_objname.values' gives the values of the obj (array values)\n",
    "print(exm.index)   # a 'Series_objname.index' gives the index information of the array\n",
    "\n",
    "# thus using this you can also change the index of the associated sequence:\n",
    "\n",
    "obj = pd.Series([3, 6, 7, 2], index = ['a', 'b', 'c', 'd'])\n",
    "print(obj)\n",
    "print(obj.index)\n",
    "\n",
    "# to select single element from the sequence you can use the associated index \n",
    "\n",
    "print(exm[3], obj['d'])\n",
    "\n",
    "# you can also use a sequence of indexes together to get the elements\n",
    "\n",
    "print(obj[['a', 'c', 'd']])  # since it is a sequence you have to put them inside the \" [] \""
   ]
  },
  {
   "cell_type": "code",
   "execution_count": 3,
   "metadata": {},
   "outputs": [
    {
     "name": "stdout",
     "output_type": "stream",
     "text": [
      "a    3\n",
      "b    6\n",
      "c    7\n",
      "d    2\n",
      "dtype: int64\n",
      "a     6\n",
      "b    12\n",
      "c    14\n",
      "d     4\n",
      "dtype: int64\n"
     ]
    }
   ],
   "source": [
    "# if you use mathematical numpy or numpy-like operations, the indexes will remain the same\n",
    "print(obj)\n",
    "print(obj*2)"
   ]
  },
  {
   "cell_type": "code",
   "execution_count": 4,
   "metadata": {},
   "outputs": [
    {
     "name": "stdout",
     "output_type": "stream",
     "text": [
      "Ohio      35000\n",
      "Texas     71000\n",
      "Oregon    16000\n",
      "Utah       5000\n",
      "dtype: int64\n",
      "False\n",
      "California        NaN\n",
      "Ohio          35000.0\n",
      "Oregon        16000.0\n",
      "Texas         71000.0\n",
      "dtype: float64\n"
     ]
    }
   ],
   "source": [
    "# it can be considered as a structured dictionary, as it contains indexs and values (similar to\n",
    "# to keys and values). Infact you can pass a dictionary in Series to create a series array.\n",
    "\n",
    "sdata = {'Ohio': 35000, 'Texas': 71000, 'Oregon': 16000, 'Utah': 5000}\n",
    "data1 = pd.Series(sdata)\n",
    "print(data1)\n",
    "\n",
    "# you can perform dict like actions on Series, such as,\n",
    "\n",
    "print('California' in sdata)\n",
    "\n",
    "# while passing a dictionary in series, the dict's keys order is stored in Series. This can be \n",
    "# changed explicitely by passing keys in Series as a list, after the dict\n",
    "\n",
    "skeys = ['California', 'Ohio', 'Oregon', 'Texas']\n",
    "data2 = pd.Series(sdata, index = skeys)\n",
    "print(data2)\n",
    "\n",
    "# since the Dictionary does not contain any value for 'California' it shows as 'NaN' (which means\n",
    "# 'Not a Number'). Nan in pandas is used to mark missing objects."
   ]
  },
  {
   "cell_type": "code",
   "execution_count": 5,
   "metadata": {},
   "outputs": [
    {
     "data": {
      "text/plain": [
       "California         NaN\n",
       "Ohio           70000.0\n",
       "Oregon         32000.0\n",
       "Texas         142000.0\n",
       "Utah               NaN\n",
       "dtype: float64"
      ]
     },
     "execution_count": 5,
     "metadata": {},
     "output_type": "execute_result"
    }
   ],
   "source": [
    "# to find the missing data in pandas, 'isnull' & 'notnull' functions are used\n",
    "\n",
    "pd.isnull(data2)\n",
    "\n",
    "# the series object also contains the isnull & notnull instance methods, thus we can also write it as:\n",
    "\n",
    "data2.isnull()\n",
    "\n",
    "# an important feature of pandas is that it aligns by same indexes during mathematical operations\n",
    "# such as: \n",
    "\n",
    "data1 + data2"
   ]
  },
  {
   "cell_type": "code",
   "execution_count": 6,
   "metadata": {},
   "outputs": [
    {
     "data": {
      "text/plain": [
       "States:\n",
       "California        NaN\n",
       "Ohio          35000.0\n",
       "Oregon        16000.0\n",
       "Texas         71000.0\n",
       "Name: Population, dtype: float64"
      ]
     },
     "execution_count": 6,
     "metadata": {},
     "output_type": "execute_result"
    }
   ],
   "source": [
    "# the series object and its index have a name attribute, which is useful now and then\n",
    "\n",
    "data2.name = 'Population'\n",
    "data2.index.name = 'States:'\n",
    "data2\n",
    "\n",
    "# you can also change the index of a series directly using the assignment ' = '\n",
    "# although the length of indexes must be same as the object index."
   ]
  },
  {
   "cell_type": "markdown",
   "metadata": {},
   "source": [
    "### DataFrame"
   ]
  },
  {
   "cell_type": "code",
   "execution_count": 7,
   "metadata": {},
   "outputs": [
    {
     "data": {
      "text/plain": [
       "year       2001\n",
       "state    Nevada\n",
       "pop         2.4\n",
       "Name: 3, dtype: object"
      ]
     },
     "execution_count": 7,
     "metadata": {},
     "output_type": "execute_result"
    }
   ],
   "source": [
    "# unlike series where there are only one rows of corresponding indexes for the elements \n",
    "# in a Dataframe there are two idexes for a element in the form of rows(index) and columns(index)\n",
    "\n",
    "# there are many ways to create a DataFrame but one of the most common is to create a dictionary\n",
    "# of equal length lists or numpyArrays\n",
    "\n",
    "data = {'state': ['Ohio', 'Ohio', 'Ohio', 'Nevada', 'Nevada', 'Nevada'],\n",
    " 'year': [2000, 2001, 2002, 2001, 2002, 2003],\n",
    " 'pop': [1.5, 1.7, 3.6, 2.4, 2.9, 3.2]}\n",
    "# like the series the index will be assigned automatically if not explicitely mentioned\n",
    "frame = pd.DataFrame(data) \n",
    "\n",
    "frame.head() # the 'head()' method of DataFrame_object selects only first five rows\n",
    "\n",
    "# if you want to specify or modify the sequence of columns in the frame\n",
    "frame = pd.DataFrame(data, columns = ['year', 'state', 'pop'])\n",
    "# you can also change the index the same way (like in Series)\n",
    "\n",
    "# if you add a column to the frame that has no values, it shows as 'Nan'\n",
    "frame2 = pd.DataFrame(data, columns = ['year', 'state', 'pop', 'debt'])\n",
    "frame2.index = ['one', 'two', 'three', 'four', 'five', 'six']\n",
    "\n",
    "\n",
    "frame['state']   # you can retrieve columns in DataFrame as dict-like or passing as a method*\n",
    "frame.state   # *this is only useful when used in Jupyter\n",
    "\n",
    "frame.loc[3]  # you can also retrieve a row, using the attribute 'loc[row_name(index)]'"
   ]
  },
  {
   "cell_type": "code",
   "execution_count": 8,
   "metadata": {},
   "outputs": [
    {
     "data": {
      "text/html": [
       "<div>\n",
       "<style scoped>\n",
       "    .dataframe tbody tr th:only-of-type {\n",
       "        vertical-align: middle;\n",
       "    }\n",
       "\n",
       "    .dataframe tbody tr th {\n",
       "        vertical-align: top;\n",
       "    }\n",
       "\n",
       "    .dataframe thead th {\n",
       "        text-align: right;\n",
       "    }\n",
       "</style>\n",
       "<table border=\"1\" class=\"dataframe\">\n",
       "  <thead>\n",
       "    <tr style=\"text-align: right;\">\n",
       "      <th>States</th>\n",
       "      <th>year</th>\n",
       "      <th>state</th>\n",
       "      <th>pop</th>\n",
       "      <th>debt</th>\n",
       "    </tr>\n",
       "    <tr>\n",
       "      <th>S.No</th>\n",
       "      <th></th>\n",
       "      <th></th>\n",
       "      <th></th>\n",
       "      <th></th>\n",
       "    </tr>\n",
       "  </thead>\n",
       "  <tbody>\n",
       "    <tr>\n",
       "      <th>one</th>\n",
       "      <td>2000</td>\n",
       "      <td>Ohio</td>\n",
       "      <td>1.5</td>\n",
       "      <td>NaN</td>\n",
       "    </tr>\n",
       "    <tr>\n",
       "      <th>two</th>\n",
       "      <td>2001</td>\n",
       "      <td>Ohio</td>\n",
       "      <td>1.7</td>\n",
       "      <td>1.2</td>\n",
       "    </tr>\n",
       "    <tr>\n",
       "      <th>three</th>\n",
       "      <td>2002</td>\n",
       "      <td>Ohio</td>\n",
       "      <td>3.6</td>\n",
       "      <td>NaN</td>\n",
       "    </tr>\n",
       "    <tr>\n",
       "      <th>four</th>\n",
       "      <td>2001</td>\n",
       "      <td>Nevada</td>\n",
       "      <td>2.4</td>\n",
       "      <td>4.6</td>\n",
       "    </tr>\n",
       "    <tr>\n",
       "      <th>five</th>\n",
       "      <td>2002</td>\n",
       "      <td>Nevada</td>\n",
       "      <td>2.9</td>\n",
       "      <td>NaN</td>\n",
       "    </tr>\n",
       "    <tr>\n",
       "      <th>six</th>\n",
       "      <td>2003</td>\n",
       "      <td>Nevada</td>\n",
       "      <td>3.2</td>\n",
       "      <td>7.2</td>\n",
       "    </tr>\n",
       "  </tbody>\n",
       "</table>\n",
       "</div>"
      ],
      "text/plain": [
       "States  year   state  pop  debt\n",
       "S.No                           \n",
       "one     2000    Ohio  1.5   NaN\n",
       "two     2001    Ohio  1.7   1.2\n",
       "three   2002    Ohio  3.6   NaN\n",
       "four    2001  Nevada  2.4   4.6\n",
       "five    2002  Nevada  2.9   NaN\n",
       "six     2003  Nevada  3.2   7.2"
      ]
     },
     "execution_count": 8,
     "metadata": {},
     "output_type": "execute_result"
    }
   ],
   "source": [
    "# column values can be modified using assigment statement, with a scalar value or an array\n",
    "# frame2['debt'] = 16\n",
    "frame2['debt'] = np.arange(6.0)\n",
    "frame2\n",
    "\n",
    "# if you are assigning 'Lists' or 'Arrays' to a column in the dataframe, it must be of the same \n",
    "# length as the dataframe.\n",
    "\n",
    "# if you are assigning 'Series' to a column, it's labels will be realigned exactly to the \n",
    "# DataFrame's indexes. Any missing value will be shown as 'NaN'\n",
    "\n",
    "val = pd.Series([1.2, 4.6, 7.2], index = ['two', 'four', 'six'])\n",
    "frame2['debt'] = val\n",
    "frame2\n",
    "\n",
    "\n",
    "# if you assign a new column which is not present in the dataframe, it will create a new column\n",
    "\n",
    "frame2['eastern'] = frame2['state'] == 'Ohio'\n",
    "frame2.index.name = 'S.No'; frame2.columns.name = 'States'\n",
    "\n",
    "# just like a dictionary the del keyword is used to delete the columns\n",
    "\n",
    "del frame2['eastern']\n",
    "frame2.values  # like Series 'dataframe_obj.values' returns a two-dimensional array of data\n",
    "frame2\n",
    "\n"
   ]
  },
  {
   "cell_type": "code",
   "execution_count": 10,
   "metadata": {},
   "outputs": [],
   "source": [
    "# if nested Dicts are passed in Pandas dataframe, pandas interpret the outer dict as the columns \n",
    "# and the inner dicts as the row indexes and values"
   ]
  },
  {
   "cell_type": "markdown",
   "metadata": {},
   "source": [
    "### INDEX OBJECTS"
   ]
  },
  {
   "cell_type": "code",
   "execution_count": 35,
   "metadata": {},
   "outputs": [
    {
     "data": {
      "text/plain": [
       "Float64Index([0.01, 0.0, 1.0, 2.0, 3.0, 4.0, 5.0, 6.0, 7.0, 8.0, 9.0], dtype='float64')"
      ]
     },
     "execution_count": 35,
     "metadata": {},
     "output_type": "execute_result"
    }
   ],
   "source": [
    "# these index objects are reponsible for turning any labels, or a sequence passed while contructing \n",
    "# a Series or dataframe into indices (index)\n",
    "# These indices are 'immutable'\n",
    "\n",
    "ind = pd.Index([1, 2, 3])\n",
    "dfobj = pd.Series(['kelly', 'molly', 'sammy'], index = ind)\n",
    "dfobj\n",
    "\n",
    "# in Pandas there can be duplicate index labels unlike a Set\n",
    "# When a particular index has been called, all the occurrances of that index will be returned\n",
    "# if there are more of the same index\n",
    "\n",
    "indexer = pd.Index(np.arange(10))\n",
    "indexer.append(pd.Index([10]))  # index_obj.append() only accepts other indexes as parameters\n",
    "indexer.difference([2, 4, 6, 7, 4])  # compares two index arrays like a set\n",
    "indexer.intersection([2, 4, 6, 7])  # finds the common in passed two array of indexes\n",
    "indexer.union([11, 21, 101, 1000])  # combines two array of indexes together\n",
    "\n",
    "indexer.union([11, 21, 101, 1000]).delete(-1)\n",
    "indexer.isin([9])  # only list like objects can be passed inside 'isin'\n",
    "indexer.insert(0, 0.01) # insert method inserts an index using the index number"
   ]
  },
  {
   "cell_type": "code",
   "execution_count": 44,
   "metadata": {},
   "outputs": [
    {
     "data": {
      "text/plain": [
       "a      1\n",
       "b    6.6\n",
       "c      4\n",
       "d    4.2\n",
       "e      5\n",
       "f    NaN\n",
       "e      5\n",
       "dtype: object"
      ]
     },
     "execution_count": 44,
     "metadata": {},
     "output_type": "execute_result"
    }
   ],
   "source": [
    "# we can change the index of a series or dataframe using the 'reindex' function\n",
    "# in reindex, to change the indedx of a Series or Dataframe you have to create a new object\n",
    "\n",
    "obj1 = pd.Series(['1', 4, 5, '6.6', 4.2], index = ['a', 'c', 'e', 'b', 'd'])\n",
    "obj1    # when you are passing index in Series method of dataframe, it has to be of same length as\n",
    "# as that of the values\n",
    "    \n",
    "obj2 = obj1.reindex(['a', 'b', 'c', 'd', 'e', 'f', 'e'])\n",
    "obj2  # while reindexing, you can rearrange the indices as you like, any new index with no associated \n",
    "# value will be shown as 'Nan'\n",
    "# if you add an two similar indiced using 'reindex', the value of that original index will be given\n",
    "# to all the occurences of that index (in the above example:  'e')\n",
    "\n"
   ]
  },
  {
   "cell_type": "markdown",
   "metadata": {},
   "source": [
    "### ffill attribute in reindex method"
   ]
  },
  {
   "cell_type": "code",
   "execution_count": 66,
   "metadata": {},
   "outputs": [
    {
     "data": {
      "text/html": [
       "<div>\n",
       "<style scoped>\n",
       "    .dataframe tbody tr th:only-of-type {\n",
       "        vertical-align: middle;\n",
       "    }\n",
       "\n",
       "    .dataframe tbody tr th {\n",
       "        vertical-align: top;\n",
       "    }\n",
       "\n",
       "    .dataframe thead th {\n",
       "        text-align: right;\n",
       "    }\n",
       "</style>\n",
       "<table border=\"1\" class=\"dataframe\">\n",
       "  <thead>\n",
       "    <tr style=\"text-align: right;\">\n",
       "      <th></th>\n",
       "      <th>33</th>\n",
       "      <th>44</th>\n",
       "      <th>66</th>\n",
       "      <th>77</th>\n",
       "      <th>88</th>\n",
       "      <th>a</th>\n",
       "    </tr>\n",
       "  </thead>\n",
       "  <tbody>\n",
       "    <tr>\n",
       "      <th>first</th>\n",
       "      <td>0</td>\n",
       "      <td>0</td>\n",
       "      <td>0</td>\n",
       "      <td>0</td>\n",
       "      <td>0</td>\n",
       "      <td>0</td>\n",
       "    </tr>\n",
       "    <tr>\n",
       "      <th>second</th>\n",
       "      <td>0</td>\n",
       "      <td>0</td>\n",
       "      <td>0</td>\n",
       "      <td>0</td>\n",
       "      <td>0</td>\n",
       "      <td>5</td>\n",
       "    </tr>\n",
       "  </tbody>\n",
       "</table>\n",
       "</div>"
      ],
      "text/plain": [
       "        33  44  66  77  88  a\n",
       "first    0   0   0   0   0  0\n",
       "second   0   0   0   0   0  5"
      ]
     },
     "execution_count": 66,
     "metadata": {},
     "output_type": "execute_result"
    }
   ],
   "source": [
    "# you can use the ffill attribute (forward-fills) to fill in the missing values for extra indices \n",
    "# when passed in the reindex method\n",
    "\n",
    "obj3 = pd.Series(['a', 'b', 'c'], index = [0, 4, 6])\n",
    "obj3.reindex(range(10), method = 'ffill')  # ffill fills in the values that occurs above the missing\n",
    "# indexed values\n",
    "\n",
    "# reindex can manipulate rows as well as columns\n",
    "# if only a sequene has been passed to reindex, it changes the rows by default\n",
    "\n",
    "dfobj = pd.DataFrame(np.arange(10).reshape((2,5)), index = ['first', 'second'], columns = \n",
    "                    ['a', 'b', 'c', 'd', 'e'])\n",
    "dfobj\n",
    "\n",
    "frame = dfobj.reindex(['first', 'second', 'third', 'fourth'])\n",
    "alpha = [33, 44, 66, 77, 88, 'a']\n",
    "frame = dfobj.reindex(columns = alpha, fill_value = 0)  # columns are changes in reindex using the columns attribute\n",
    "frame\n",
    "\n",
    "# ATTRIBUTES : 'fill_value = int/string' is used to give default values to missing values (NaN)\n",
    "#            : \n",
    "# keep in mind that the columns that are passed in the reindex are only returned. It is the same\n",
    "# with the rows"
   ]
  },
  {
   "cell_type": "markdown",
   "metadata": {},
   "source": [
    "### Deleting elements from a dataframe"
   ]
  },
  {
   "cell_type": "code",
   "execution_count": 77,
   "metadata": {},
   "outputs": [
    {
     "data": {
      "text/html": [
       "<div>\n",
       "<style scoped>\n",
       "    .dataframe tbody tr th:only-of-type {\n",
       "        vertical-align: middle;\n",
       "    }\n",
       "\n",
       "    .dataframe tbody tr th {\n",
       "        vertical-align: top;\n",
       "    }\n",
       "\n",
       "    .dataframe thead th {\n",
       "        text-align: right;\n",
       "    }\n",
       "</style>\n",
       "<table border=\"1\" class=\"dataframe\">\n",
       "  <thead>\n",
       "    <tr style=\"text-align: right;\">\n",
       "      <th></th>\n",
       "      <th>une</th>\n",
       "      <th>deux</th>\n",
       "      <th>trois</th>\n",
       "      <th>quatre</th>\n",
       "    </tr>\n",
       "  </thead>\n",
       "  <tbody>\n",
       "    <tr>\n",
       "      <th>three</th>\n",
       "      <td>8</td>\n",
       "      <td>9</td>\n",
       "      <td>10</td>\n",
       "      <td>11</td>\n",
       "    </tr>\n",
       "    <tr>\n",
       "      <th>four</th>\n",
       "      <td>12</td>\n",
       "      <td>13</td>\n",
       "      <td>14</td>\n",
       "      <td>15</td>\n",
       "    </tr>\n",
       "  </tbody>\n",
       "</table>\n",
       "</div>"
      ],
      "text/plain": [
       "       une  deux  trois  quatre\n",
       "three    8     9     10      11\n",
       "four    12    13     14      15"
      ]
     },
     "execution_count": 77,
     "metadata": {},
     "output_type": "execute_result"
    }
   ],
   "source": [
    "# drop method returns an object of the dataframe without the value or values that are passed in the \n",
    "# drop method on a given axis (either axis = 0 , which is rows or , axis = 1, which is columns)\n",
    "\n",
    "df = pd.DataFrame(np.arange(16).reshape((4,4)), index = ['one','two', 'three', 'four'],\n",
    "                 columns = ['une', 'deux', 'trois', 'quatre'])\n",
    "newdf = df.drop(['three', 'four']) # if you pass any values without mentioning the axis, the rows,\n",
    "# that is axis zero is the default axis\n",
    "\n",
    "# to drop from the columns, you used 'axis = 1' or 'axis = \"columns\"'\n",
    "\n",
    "newdfc = df.drop(['trois', 'quatre'], axis = 1)\n",
    "newdfc\n",
    "\n",
    "# drop method can deleted the values passed in it directly from the original dataframe object using\n",
    "# the 'inplace' attribute. Beware, this permanentely deletes the value from the df\n",
    "\n",
    "df.drop(['one', 'two'], inplace = True)\n",
    "df"
   ]
  },
  {
   "cell_type": "markdown",
   "metadata": {},
   "source": [
    "### "
   ]
  }
 ],
 "metadata": {
  "kernelspec": {
   "display_name": "Python 3",
   "language": "python",
   "name": "python3"
  },
  "language_info": {
   "codemirror_mode": {
    "name": "ipython",
    "version": 3
   },
   "file_extension": ".py",
   "mimetype": "text/x-python",
   "name": "python",
   "nbconvert_exporter": "python",
   "pygments_lexer": "ipython3",
   "version": "3.6.8"
  }
 },
 "nbformat": 4,
 "nbformat_minor": 4
}
