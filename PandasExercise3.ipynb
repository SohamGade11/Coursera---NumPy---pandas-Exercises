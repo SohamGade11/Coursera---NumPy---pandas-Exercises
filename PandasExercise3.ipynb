{
 "cells": [
  {
   "cell_type": "markdown",
   "metadata": {},
   "source": [
    "# Merge two dataframes using Pandas"
   ]
  },
  {
   "cell_type": "code",
   "execution_count": 1,
   "metadata": {},
   "outputs": [],
   "source": [
    "import pandas as pd\n",
    "import numpy as np"
   ]
  },
  {
   "cell_type": "markdown",
   "metadata": {},
   "source": [
    "# Hierarchical Indexing\n",
    "It is the use of two indexes on an axis."
   ]
  },
  {
   "cell_type": "code",
   "execution_count": 2,
   "metadata": {},
   "outputs": [
    {
     "data": {
      "text/plain": [
       "a  1    0.045634\n",
       "   2   -1.427980\n",
       "   5   -1.709887\n",
       "b  6    0.794658\n",
       "c  4   -0.404283\n",
       "   8    0.576762\n",
       "d  3   -0.514015\n",
       "   7   -0.233811\n",
       "dtype: float64"
      ]
     },
     "execution_count": 2,
     "metadata": {},
     "output_type": "execute_result"
    }
   ],
   "source": [
    "srr = pd.Series(np.random.randn(8), index = [['a', 'a', 'a', 'b', 'c', 'c', 'd', 'd'], \n",
    "                                               [1, 2, 5, 6, 4, 8, 7, 3]])\n",
    "srr\n",
    "\n",
    "# with the help of hierarchical indexing you can use 'partial' indexing (selecting a subset of data)\n",
    "\n",
    "srr[['d','c']]\n",
    "srr['a':'b']\n",
    "srr.loc[['d','c']]  # its the same as the first parsing\n",
    "\n",
    "\n",
    "# you can convert a hierarchical series into a DataFrame by using the unstack method\n",
    "df = srr.unstack()\n",
    "# you can convert the same again using 'stack()' method\n",
    "df.stack()\n",
    "\n"
   ]
  },
  {
   "cell_type": "code",
   "execution_count": 3,
   "metadata": {},
   "outputs": [
    {
     "name": "stdout",
     "output_type": "stream",
     "text": [
      "States     Ohio California\n",
      "Colours   Green        Red\n",
      "Key1 Key2                 \n",
      "a    1        0          1\n",
      "     2        2          3\n",
      "b    2        4          5\n",
      "c    4        6          7\n"
     ]
    },
    {
     "data": {
      "text/html": [
       "<div>\n",
       "<style scoped>\n",
       "    .dataframe tbody tr th:only-of-type {\n",
       "        vertical-align: middle;\n",
       "    }\n",
       "\n",
       "    .dataframe tbody tr th {\n",
       "        vertical-align: top;\n",
       "    }\n",
       "\n",
       "    .dataframe thead th {\n",
       "        text-align: right;\n",
       "    }\n",
       "</style>\n",
       "<table border=\"1\" class=\"dataframe\">\n",
       "  <thead>\n",
       "    <tr style=\"text-align: right;\">\n",
       "      <th></th>\n",
       "      <th>Colours</th>\n",
       "      <th>Green</th>\n",
       "      <th>Red</th>\n",
       "    </tr>\n",
       "    <tr>\n",
       "      <th>Key1</th>\n",
       "      <th>Key2</th>\n",
       "      <th></th>\n",
       "      <th></th>\n",
       "    </tr>\n",
       "  </thead>\n",
       "  <tbody>\n",
       "    <tr>\n",
       "      <th rowspan=\"2\" valign=\"top\">a</th>\n",
       "      <th>1</th>\n",
       "      <td>0</td>\n",
       "      <td>1</td>\n",
       "    </tr>\n",
       "    <tr>\n",
       "      <th>2</th>\n",
       "      <td>2</td>\n",
       "      <td>3</td>\n",
       "    </tr>\n",
       "    <tr>\n",
       "      <th>b</th>\n",
       "      <th>2</th>\n",
       "      <td>4</td>\n",
       "      <td>5</td>\n",
       "    </tr>\n",
       "    <tr>\n",
       "      <th>c</th>\n",
       "      <th>4</th>\n",
       "      <td>6</td>\n",
       "      <td>7</td>\n",
       "    </tr>\n",
       "  </tbody>\n",
       "</table>\n",
       "</div>"
      ],
      "text/plain": [
       "Colours    Green  Red\n",
       "Key1 Key2            \n",
       "a    1         0    1\n",
       "     2         2    3\n",
       "b    2         4    5\n",
       "c    4         6    7"
      ]
     },
     "execution_count": 3,
     "metadata": {},
     "output_type": "execute_result"
    }
   ],
   "source": [
    "# In a DataFrame either of the axis can have hierarchical indexes\n",
    "df = pd.DataFrame(np.arange(8).reshape(4,2), index = [['a', 'a', 'b', 'c'], [1, 2, 2, 4]],\n",
    "                 columns = [['Ohio', 'California'], ['Green', 'Red']])\n",
    "df.index.names = ['Key1', 'Key2']\n",
    "df.columns.names = ['States', 'Colours']\n",
    "# 'index.names' and 'columns.names' explicitly changes the dataframe object, similar to the \n",
    "# 'inplace = True' atrribute\n",
    "\n",
    "# 'swaplevel' takes two parameters (indexes) and can swap the indexes on a axis\n",
    "df.swaplevel('Key1', 'Key2') # but only performing swaplevel, the order is unaltered, hence,\n",
    "# \"sort_index()\" fucntion is used. it takes 'level' as a parameter, indicating the index number of \n",
    "# the indices and sorts accordingly.\n",
    "df.swaplevel('Key1', 'Key2').sort_index(level = 0)   # level = 1 :  is the second index\n",
    "\n",
    "# swaplevel also takes index number as parameters instead of the index names\n",
    "print(df)\n",
    "df.sum(level = 1)   # sum() take level as parameter and sums up all the elements in that index\n",
    "\n",
    "# if you want to summarize on the columns axis, you have to explicitly mention 'axis = 1'\n",
    "df.sum(level = 'Colours', axis = 1)"
   ]
  },
  {
   "cell_type": "markdown",
   "metadata": {},
   "source": [
    "# Merging on Database\n",
    "\n",
    "*pandas.merge* is used to merge rows in a DataFrame using one or more keys. It is the same as the SQL join operation\n",
    "\n",
    "*pandas.concat* is used to stack objects together on an axis"
   ]
  },
  {
   "cell_type": "code",
   "execution_count": 4,
   "metadata": {},
   "outputs": [
    {
     "name": "stdout",
     "output_type": "stream",
     "text": [
      "  key  data2\n",
      "0   a      0\n",
      "1   b      1\n",
      "2   d      2\n"
     ]
    },
    {
     "data": {
      "text/html": [
       "<div>\n",
       "<style scoped>\n",
       "    .dataframe tbody tr th:only-of-type {\n",
       "        vertical-align: middle;\n",
       "    }\n",
       "\n",
       "    .dataframe tbody tr th {\n",
       "        vertical-align: top;\n",
       "    }\n",
       "\n",
       "    .dataframe thead th {\n",
       "        text-align: right;\n",
       "    }\n",
       "</style>\n",
       "<table border=\"1\" class=\"dataframe\">\n",
       "  <thead>\n",
       "    <tr style=\"text-align: right;\">\n",
       "      <th></th>\n",
       "      <th>key</th>\n",
       "      <th>data1</th>\n",
       "      <th>data2</th>\n",
       "    </tr>\n",
       "  </thead>\n",
       "  <tbody>\n",
       "    <tr>\n",
       "      <th>0</th>\n",
       "      <td>b</td>\n",
       "      <td>0.0</td>\n",
       "      <td>1.0</td>\n",
       "    </tr>\n",
       "    <tr>\n",
       "      <th>1</th>\n",
       "      <td>b</td>\n",
       "      <td>1.0</td>\n",
       "      <td>1.0</td>\n",
       "    </tr>\n",
       "    <tr>\n",
       "      <th>2</th>\n",
       "      <td>b</td>\n",
       "      <td>6.0</td>\n",
       "      <td>1.0</td>\n",
       "    </tr>\n",
       "    <tr>\n",
       "      <th>3</th>\n",
       "      <td>a</td>\n",
       "      <td>2.0</td>\n",
       "      <td>0.0</td>\n",
       "    </tr>\n",
       "    <tr>\n",
       "      <th>4</th>\n",
       "      <td>a</td>\n",
       "      <td>4.0</td>\n",
       "      <td>0.0</td>\n",
       "    </tr>\n",
       "    <tr>\n",
       "      <th>5</th>\n",
       "      <td>a</td>\n",
       "      <td>5.0</td>\n",
       "      <td>0.0</td>\n",
       "    </tr>\n",
       "    <tr>\n",
       "      <th>6</th>\n",
       "      <td>c</td>\n",
       "      <td>3.0</td>\n",
       "      <td>NaN</td>\n",
       "    </tr>\n",
       "    <tr>\n",
       "      <th>7</th>\n",
       "      <td>d</td>\n",
       "      <td>NaN</td>\n",
       "      <td>2.0</td>\n",
       "    </tr>\n",
       "  </tbody>\n",
       "</table>\n",
       "</div>"
      ],
      "text/plain": [
       "  key  data1  data2\n",
       "0   b    0.0    1.0\n",
       "1   b    1.0    1.0\n",
       "2   b    6.0    1.0\n",
       "3   a    2.0    0.0\n",
       "4   a    4.0    0.0\n",
       "5   a    5.0    0.0\n",
       "6   c    3.0    NaN\n",
       "7   d    NaN    2.0"
      ]
     },
     "execution_count": 4,
     "metadata": {},
     "output_type": "execute_result"
    }
   ],
   "source": [
    "df1 = pd.DataFrame({'key': ['b', 'b', 'a', 'c', 'a', 'a', 'b'], 'data1' : range(7)})\n",
    "df2 = pd.DataFrame({'key': ['a', 'b', 'd'], 'data2' : range(3)})\n",
    "print(df2)\n",
    "pd.merge(df1, df2)  # note that 'a' and 'b' are similar on both databases\n",
    "\n",
    "# it is good practice to mention the column as by default pandas take the overlapping columns as the \n",
    "# keys to merge the data, hence\n",
    " \n",
    "pd.merge(df1, df2, on='key')  # 'on' attribute is used to mention the column name to be merged on\n",
    "\n",
    "# if the elements are different, you can specify the columns\n",
    "# pd.merge(df1, df2, left_on = 'lkey', right_on = 'rkey')\n",
    "\n",
    "\n",
    "# 'merge' takes the intersection of the two databases mentioned. if you want the union of the two,\n",
    "\n",
    "pd.merge(df1, df2, how = 'outer')\n",
    "\n",
    "# how argument has 'inner' (default), 'left' (to use all key combinations on the left table)\n",
    "# 'right' (to use all key combinations on the right table) and 'outer' (union of tables)\n",
    "\n",
    "# This^^ form of merging in the SQL side is known as MANY-TO-ONE\n"
   ]
  },
  {
   "cell_type": "markdown",
   "metadata": {},
   "source": [
    "# Data Combination Method (Concatenating along an Axis)\n",
    "\n",
    "* NumPys 'concatenate' fuction can do this with the NumPy arrays"
   ]
  },
  {
   "cell_type": "code",
   "execution_count": 5,
   "metadata": {},
   "outputs": [
    {
     "data": {
      "text/html": [
       "<div>\n",
       "<style scoped>\n",
       "    .dataframe tbody tr th:only-of-type {\n",
       "        vertical-align: middle;\n",
       "    }\n",
       "\n",
       "    .dataframe tbody tr th {\n",
       "        vertical-align: top;\n",
       "    }\n",
       "\n",
       "    .dataframe thead th {\n",
       "        text-align: right;\n",
       "    }\n",
       "</style>\n",
       "<table border=\"1\" class=\"dataframe\">\n",
       "  <thead>\n",
       "    <tr style=\"text-align: right;\">\n",
       "      <th></th>\n",
       "      <th>a</th>\n",
       "      <th>b</th>\n",
       "      <th>c</th>\n",
       "      <th>d</th>\n",
       "      <th>e</th>\n",
       "      <th>f</th>\n",
       "      <th>g</th>\n",
       "    </tr>\n",
       "  </thead>\n",
       "  <tbody>\n",
       "    <tr>\n",
       "      <th>0</th>\n",
       "      <td>0.0</td>\n",
       "      <td>1.0</td>\n",
       "      <td>NaN</td>\n",
       "      <td>NaN</td>\n",
       "      <td>NaN</td>\n",
       "      <td>NaN</td>\n",
       "      <td>NaN</td>\n",
       "    </tr>\n",
       "    <tr>\n",
       "      <th>1</th>\n",
       "      <td>NaN</td>\n",
       "      <td>NaN</td>\n",
       "      <td>2.0</td>\n",
       "      <td>3.0</td>\n",
       "      <td>4.0</td>\n",
       "      <td>NaN</td>\n",
       "      <td>NaN</td>\n",
       "    </tr>\n",
       "    <tr>\n",
       "      <th>2</th>\n",
       "      <td>NaN</td>\n",
       "      <td>NaN</td>\n",
       "      <td>NaN</td>\n",
       "      <td>NaN</td>\n",
       "      <td>NaN</td>\n",
       "      <td>5.0</td>\n",
       "      <td>6.0</td>\n",
       "    </tr>\n",
       "  </tbody>\n",
       "</table>\n",
       "</div>"
      ],
      "text/plain": [
       "     a    b    c    d    e    f    g\n",
       "0  0.0  1.0  NaN  NaN  NaN  NaN  NaN\n",
       "1  NaN  NaN  2.0  3.0  4.0  NaN  NaN\n",
       "2  NaN  NaN  NaN  NaN  NaN  5.0  6.0"
      ]
     },
     "execution_count": 5,
     "metadata": {},
     "output_type": "execute_result"
    }
   ],
   "source": [
    "arr = np.arange(20).reshape(5, 4)\n",
    "np.concatenate([arr, arr], axis = 1)\n",
    "\n",
    "# while using a Series or DataFrame object the 'concat' function is used to merge all the columns \n",
    "# together, for example in three Series with no similar column names or keys, all the elements are\n",
    "# merged together\n",
    "\n",
    "s1 = pd.Series([0, 1], index=['a', 'b'])\n",
    "s2 = pd.Series([2, 3, 4], index=['c', 'd', 'e'])\n",
    "s3 = pd.Series([5, 6], index=['f', 'g'])\n",
    "\n",
    "pd.concat([s1, s2, s3]) # the parameter should be an iterable\n",
    "\n",
    "# by default concat using the axis 0 to concat the series/tables producing another Series\n",
    "# if you pass axis = 1 explicitly it will turn into a DataFrame instead\n",
    "\n",
    "pd.concat([s1, s2, s3], axis = 1).T"
   ]
  },
  {
   "cell_type": "markdown",
   "metadata": {},
   "source": [
    "# Coursera: More Data Processing on Pandas"
   ]
  },
  {
   "cell_type": "code",
   "execution_count": 6,
   "metadata": {},
   "outputs": [
    {
     "name": "stdout",
     "output_type": "stream",
     "text": [
      "        Age\n",
      "Name       \n",
      "Kelly    30\n",
      "Boston   45\n",
      "James    60\n",
      "          School\n",
      "Name            \n",
      "James   Business\n",
      "Mike         Law\n",
      "Boston      Engg\n"
     ]
    }
   ],
   "source": [
    "stff_df = pd.DataFrame([{'Name': 'Kelly', 'Age': 30},{'Name': 'Boston', 'Age': 45},\n",
    "                       {'Name': 'James', 'Age': 60}])\n",
    "stff_df = stff_df.set_index('Name')\n",
    "stu_df = pd.DataFrame([{'Name': 'James', 'School': 'Business'}, {'Name': 'Mike', 'School': 'Law'},\n",
    "                      {'Name': 'Boston', 'School': 'Engg'}])\n",
    "stu_df = stu_df.set_index('Name')\n",
    "\n",
    "print(stff_df)\n",
    "print(stu_df)\n",
    "\n",
    "# dataframe_obj.set_index()  &  dataframe_obj.index.name , both of them perform different\n",
    "# first sets the index as per the 'Name' given in paranthesis(this name should be present as a column)\n",
    "# second gives a new name to the existing index of the dataframe (it can be any given name)\n"
   ]
  },
  {
   "cell_type": "code",
   "execution_count": 7,
   "metadata": {},
   "outputs": [
    {
     "data": {
      "text/html": [
       "<div>\n",
       "<style scoped>\n",
       "    .dataframe tbody tr th:only-of-type {\n",
       "        vertical-align: middle;\n",
       "    }\n",
       "\n",
       "    .dataframe tbody tr th {\n",
       "        vertical-align: top;\n",
       "    }\n",
       "\n",
       "    .dataframe thead th {\n",
       "        text-align: right;\n",
       "    }\n",
       "</style>\n",
       "<table border=\"1\" class=\"dataframe\">\n",
       "  <thead>\n",
       "    <tr style=\"text-align: right;\">\n",
       "      <th></th>\n",
       "      <th>Age</th>\n",
       "      <th>School</th>\n",
       "    </tr>\n",
       "    <tr>\n",
       "      <th>Name</th>\n",
       "      <th></th>\n",
       "      <th></th>\n",
       "    </tr>\n",
       "  </thead>\n",
       "  <tbody>\n",
       "    <tr>\n",
       "      <th>Boston</th>\n",
       "      <td>45</td>\n",
       "      <td>Engg</td>\n",
       "    </tr>\n",
       "    <tr>\n",
       "      <th>James</th>\n",
       "      <td>60</td>\n",
       "      <td>Business</td>\n",
       "    </tr>\n",
       "  </tbody>\n",
       "</table>\n",
       "</div>"
      ],
      "text/plain": [
       "        Age    School\n",
       "Name                 \n",
       "Boston   45      Engg\n",
       "James    60  Business"
      ]
     },
     "execution_count": 7,
     "metadata": {},
     "output_type": "execute_result"
    }
   ],
   "source": [
    "pd.merge(stff_df, stu_df, how = 'outer', left_index = True, right_index = True)\n",
    "\n",
    "# 'left_index'  &  'right_index' are used to indicate that we want to use the index values\n",
    "\n",
    "pd.merge(stff_df, stu_df, left_index = True, right_index = True)\n",
    "\n",
    "# by default it is the intersection of the two"
   ]
  },
  {
   "cell_type": "code",
   "execution_count": 8,
   "metadata": {},
   "outputs": [
    {
     "data": {
      "text/html": [
       "<div>\n",
       "<style scoped>\n",
       "    .dataframe tbody tr th:only-of-type {\n",
       "        vertical-align: middle;\n",
       "    }\n",
       "\n",
       "    .dataframe tbody tr th {\n",
       "        vertical-align: top;\n",
       "    }\n",
       "\n",
       "    .dataframe thead th {\n",
       "        text-align: right;\n",
       "    }\n",
       "</style>\n",
       "<table border=\"1\" class=\"dataframe\">\n",
       "  <thead>\n",
       "    <tr style=\"text-align: right;\">\n",
       "      <th></th>\n",
       "      <th>Age</th>\n",
       "      <th>School</th>\n",
       "    </tr>\n",
       "    <tr>\n",
       "      <th>Name</th>\n",
       "      <th></th>\n",
       "      <th></th>\n",
       "    </tr>\n",
       "  </thead>\n",
       "  <tbody>\n",
       "    <tr>\n",
       "      <th>Kelly</th>\n",
       "      <td>30</td>\n",
       "      <td>NaN</td>\n",
       "    </tr>\n",
       "    <tr>\n",
       "      <th>Boston</th>\n",
       "      <td>45</td>\n",
       "      <td>Engg</td>\n",
       "    </tr>\n",
       "    <tr>\n",
       "      <th>James</th>\n",
       "      <td>60</td>\n",
       "      <td>Business</td>\n",
       "    </tr>\n",
       "  </tbody>\n",
       "</table>\n",
       "</div>"
      ],
      "text/plain": [
       "        Age    School\n",
       "Name                 \n",
       "Kelly    30       NaN\n",
       "Boston   45      Engg\n",
       "James    60  Business"
      ]
     },
     "execution_count": 8,
     "metadata": {},
     "output_type": "execute_result"
    }
   ],
   "source": [
    "# in order to get join of the two tables based on a single table we use 'how = 'left'' get return all \n",
    "# the items of the left table and if there are intersections they will be added on the left table.\n",
    "# the same is with the right table using \"how = 'right'\"\n",
    "\n",
    "pd.merge(stff_df, stu_df, how = 'left', left_index = True, right_index = True)"
   ]
  },
  {
   "cell_type": "code",
   "execution_count": 9,
   "metadata": {},
   "outputs": [
    {
     "data": {
      "text/html": [
       "<div>\n",
       "<style scoped>\n",
       "    .dataframe tbody tr th:only-of-type {\n",
       "        vertical-align: middle;\n",
       "    }\n",
       "\n",
       "    .dataframe tbody tr th {\n",
       "        vertical-align: top;\n",
       "    }\n",
       "\n",
       "    .dataframe thead th {\n",
       "        text-align: right;\n",
       "    }\n",
       "</style>\n",
       "<table border=\"1\" class=\"dataframe\">\n",
       "  <thead>\n",
       "    <tr style=\"text-align: right;\">\n",
       "      <th></th>\n",
       "      <th>Age</th>\n",
       "      <th>School</th>\n",
       "    </tr>\n",
       "    <tr>\n",
       "      <th>Name</th>\n",
       "      <th></th>\n",
       "      <th></th>\n",
       "    </tr>\n",
       "  </thead>\n",
       "  <tbody>\n",
       "    <tr>\n",
       "      <th>Boston</th>\n",
       "      <td>45.0</td>\n",
       "      <td>Engg</td>\n",
       "    </tr>\n",
       "    <tr>\n",
       "      <th>James</th>\n",
       "      <td>60.0</td>\n",
       "      <td>Business</td>\n",
       "    </tr>\n",
       "    <tr>\n",
       "      <th>Mike</th>\n",
       "      <td>NaN</td>\n",
       "      <td>Law</td>\n",
       "    </tr>\n",
       "  </tbody>\n",
       "</table>\n",
       "</div>"
      ],
      "text/plain": [
       "         Age    School\n",
       "Name                  \n",
       "Boston  45.0      Engg\n",
       "James   60.0  Business\n",
       "Mike     NaN       Law"
      ]
     },
     "execution_count": 9,
     "metadata": {},
     "output_type": "execute_result"
    }
   ],
   "source": [
    "pd.merge(stff_df, stu_df, how = 'right', left_index = True, right_index = True)\n",
    "\n",
    "# on attribute is the same as left_index = True and right_index = True\n",
    "# ' on ' takes the name of the column that is common on both of the tables, hence, \n",
    "pd.merge(stff_df, stu_df, how = 'right', on = 'Name')  # will yeild the same results"
   ]
  },
  {
   "cell_type": "markdown",
   "metadata": {},
   "source": [
    "### In case of conflict of column values\n",
    "That is, that the column names might be same but the values in the same tables must be different in this case the pandas merge function returns '_x'  &  '_y' to indicate the left and the right columns data respectively."
   ]
  },
  {
   "cell_type": "code",
   "execution_count": 10,
   "metadata": {},
   "outputs": [
    {
     "data": {
      "text/html": [
       "<div>\n",
       "<style scoped>\n",
       "    .dataframe tbody tr th:only-of-type {\n",
       "        vertical-align: middle;\n",
       "    }\n",
       "\n",
       "    .dataframe tbody tr th {\n",
       "        vertical-align: top;\n",
       "    }\n",
       "\n",
       "    .dataframe thead th {\n",
       "        text-align: right;\n",
       "    }\n",
       "</style>\n",
       "<table border=\"1\" class=\"dataframe\">\n",
       "  <thead>\n",
       "    <tr style=\"text-align: right;\">\n",
       "      <th></th>\n",
       "      <th>Name</th>\n",
       "      <th>Age_x</th>\n",
       "      <th>Age_y</th>\n",
       "    </tr>\n",
       "  </thead>\n",
       "  <tbody>\n",
       "    <tr>\n",
       "      <th>0</th>\n",
       "      <td>Kelly</td>\n",
       "      <td>30</td>\n",
       "      <td>NaN</td>\n",
       "    </tr>\n",
       "    <tr>\n",
       "      <th>1</th>\n",
       "      <td>Boston</td>\n",
       "      <td>45</td>\n",
       "      <td>24 years</td>\n",
       "    </tr>\n",
       "    <tr>\n",
       "      <th>2</th>\n",
       "      <td>James</td>\n",
       "      <td>60</td>\n",
       "      <td>44 years</td>\n",
       "    </tr>\n",
       "  </tbody>\n",
       "</table>\n",
       "</div>"
      ],
      "text/plain": [
       "     Name  Age_x     Age_y\n",
       "0   Kelly     30       NaN\n",
       "1  Boston     45  24 years\n",
       "2   James     60  44 years"
      ]
     },
     "execution_count": 10,
     "metadata": {},
     "output_type": "execute_result"
    }
   ],
   "source": [
    "# for example with the same tables instead of school on table 2, we will add age with a string value\n",
    "\n",
    "stff_df = pd.DataFrame([{'Name': 'Kelly', 'Age': 30},{'Name': 'Boston', 'Age': 45},\n",
    "                       {'Name': 'James', 'Age': 60}])\n",
    "\n",
    "stu_df = pd.DataFrame([{'Name': 'James', 'Age': '44 years'}, {'Name': 'Mike', 'Age': '25 years'},\n",
    "                      {'Name': 'Boston', 'Age': '24 years'}])\n",
    "\n",
    "pd.merge(stff_df, stu_df, how = 'left', on = 'Name')\n",
    "\n",
    "# in the above example, age_x is the left table column and age_y is the right table column of the \n",
    "# same column name 'Age' (this is because same people have conflicting values in a same column)\n",
    "\n"
   ]
  },
  {
   "cell_type": "markdown",
   "metadata": {},
   "source": [
    "## Muti-indexing and multiple columns\n",
    "This is done using a list of the columns that are to be matched in the 'on' parameter.\n",
    "It is necessary that the column names passed in the on parameter has to exist in both the tables.\n",
    "For example, in the above two tables, it is possible that the first names of the staff and student might match but not the last names, hence in this case muti-indexing and multiple columns are used.\n",
    "\n",
    "If we add another called named last name, we have to pass a list of the column names in the on parameter.\n",
    "\n",
    "*pd.merge(stff_df, stu_df, how = 'inner', on = \\['First Name', 'Last Name'\\])*"
   ]
  },
  {
   "cell_type": "markdown",
   "metadata": {},
   "source": [
    "# CONCATENATING\n",
    "### Merging of the tables is done horizontally, while concatenating of the tables is done vertically"
   ]
  }
 ],
 "metadata": {
  "kernelspec": {
   "display_name": "Python 3",
   "language": "python",
   "name": "python3"
  },
  "language_info": {
   "codemirror_mode": {
    "name": "ipython",
    "version": 3
   },
   "file_extension": ".py",
   "mimetype": "text/x-python",
   "name": "python",
   "nbconvert_exporter": "python",
   "pygments_lexer": "ipython3",
   "version": "3.6.8"
  }
 },
 "nbformat": 4,
 "nbformat_minor": 4
}
