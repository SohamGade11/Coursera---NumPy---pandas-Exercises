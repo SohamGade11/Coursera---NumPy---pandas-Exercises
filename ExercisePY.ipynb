{
 "cells": [
  {
   "cell_type": "code",
   "execution_count": 1,
   "metadata": {},
   "outputs": [
    {
     "data": {
      "text/plain": [
       "5"
      ]
     },
     "execution_count": 1,
     "metadata": {},
     "output_type": "execute_result"
    }
   ],
   "source": [
    "x = 2\n",
    "y = 3\n",
    "x + y"
   ]
  },
  {
   "cell_type": "code",
   "execution_count": 2,
   "metadata": {},
   "outputs": [
    {
     "name": "stdout",
     "output_type": "stream",
     "text": [
      "Wall time: 0 ns\n"
     ]
    },
    {
     "data": {
      "text/plain": [
       "30"
      ]
     },
     "execution_count": 2,
     "metadata": {},
     "output_type": "execute_result"
    }
   ],
   "source": [
    "%time\n",
    "def add_nums(a, b, c=None):\n",
    "#     if c is None:\n",
    "#         return a + b\n",
    "#     else:\n",
    "#         return a + b + c\n",
    "    return a+b if c is None else a+b+c\n",
    "# python ternary conditional operator^ (concise form of if)\n",
    "# should only be used if its for true or false or one worded conditions, else it gets complicated.\n",
    "# for example:    can_vote = True if age >= 18 else False\n",
    "add_nums(10, 20)"
   ]
  },
  {
   "cell_type": "code",
   "execution_count": 3,
   "metadata": {},
   "outputs": [
    {
     "data": {
      "text/plain": [
       "234"
      ]
     },
     "execution_count": 3,
     "metadata": {},
     "output_type": "execute_result"
    }
   ],
   "source": [
    "# this is sample csv reading and writing\n",
    "\n",
    "import csv\n",
    "\n",
    "%precision 2\n",
    "\n",
    "# csvfile = open('data/mpg.csv')\n",
    "# xpg = list(csv.DictReader(csvfile))\n",
    "# xpg[:3]\n",
    "\n",
    "with open('data/mpg.csv') as csvfile:\n",
    "    xpg = list(csv.DictReader(csvfile))\n",
    "len(xpg)"
   ]
  },
  {
   "cell_type": "code",
   "execution_count": 4,
   "metadata": {},
   "outputs": [
    {
     "data": {
      "text/plain": [
       "odict_keys(['', 'manufacturer', 'model', 'displ', 'year', 'cyl', 'trans', 'drv', 'cty', 'hwy', 'fl', 'class'])"
      ]
     },
     "execution_count": 4,
     "metadata": {},
     "output_type": "execute_result"
    }
   ],
   "source": [
    "# to get the columns names we can use:\n",
    "\n",
    "xpg[0].keys()"
   ]
  },
  {
   "cell_type": "code",
   "execution_count": 5,
   "metadata": {},
   "outputs": [
    {
     "data": {
      "text/plain": [
       "16.86"
      ]
     },
     "execution_count": 5,
     "metadata": {},
     "output_type": "execute_result"
    }
   ],
   "source": [
    "# to get the average mpg in city of all cars:\n",
    "\n",
    "sum(float(d['cty']) for d in xpg) / len(xpg)\n",
    "\n",
    "# the above syntax is same as\n",
    "# amt = list()\n",
    "# for d in xpg:\n",
    "#     amt.append(float(d['cty']))\n",
    "# sum(amt) / len(xpg)"
   ]
  },
  {
   "cell_type": "code",
   "execution_count": 6,
   "metadata": {},
   "outputs": [
    {
     "data": {
      "text/plain": [
       "23.44"
      ]
     },
     "execution_count": 6,
     "metadata": {},
     "output_type": "execute_result"
    }
   ],
   "source": [
    "# this is the average highway economy\n",
    "\n",
    "sum(float(h['hwy']) for h in xpg) / len(xpg)"
   ]
  },
  {
   "cell_type": "code",
   "execution_count": 7,
   "metadata": {},
   "outputs": [
    {
     "data": {
      "text/plain": [
       "{'4', '5', '6', '8'}"
      ]
     },
     "execution_count": 7,
     "metadata": {},
     "output_type": "execute_result"
    }
   ],
   "source": [
    "# to get unique set of number, i.e not repeating the same numbers SET is used\n",
    "# set is as same as a dictionary but without key value pairs\n",
    "# there are only unique set of elements enclosed in \" { } \"\n",
    "\n",
    "cylinders = set(c['cyl'] for c in xpg)\n",
    "cylinders"
   ]
  },
  {
   "cell_type": "code",
   "execution_count": 8,
   "metadata": {},
   "outputs": [
    {
     "data": {
      "text/plain": [
       "[('4', 21.01), ('5', 20.50), ('6', 16.22), ('8', 12.57)]"
      ]
     },
     "execution_count": 8,
     "metadata": {},
     "output_type": "execute_result"
    }
   ],
   "source": [
    "# average of every cylinder size with the cities\n",
    "\n",
    "cylincty = []\n",
    "for cy in cylinders:\n",
    "    cylcount = 0\n",
    "    mpgsum = 0\n",
    "    for mp in xpg:\n",
    "        if cy == mp['cyl']:\n",
    "            mpgsum += float(mp['cty'])\n",
    "            cylcount += 1\n",
    "    cylincty.append((cy, (mpgsum / cylcount)))\n",
    "cylincty.sort()\n",
    "cylincty"
   ]
  },
  {
   "cell_type": "code",
   "execution_count": 9,
   "metadata": {},
   "outputs": [
    {
     "data": {
      "text/plain": [
       "{'2seater', 'compact', 'midsize', 'minivan', 'pickup', 'subcompact', 'suv'}"
      ]
     },
     "execution_count": 9,
     "metadata": {},
     "output_type": "execute_result"
    }
   ],
   "source": [
    "# to find average highway mpg for different vehicle classes\n",
    "\n",
    "carclass = set([cl['class'] for cl in xpg])\n",
    "carclass"
   ]
  },
  {
   "cell_type": "code",
   "execution_count": 10,
   "metadata": {},
   "outputs": [
    {
     "data": {
      "text/plain": [
       "[('pickup', 16.88),\n",
       " ('suv', 18.13),\n",
       " ('minivan', 22.36),\n",
       " ('2seater', 24.80),\n",
       " ('midsize', 27.29),\n",
       " ('subcompact', 28.14),\n",
       " ('compact', 28.30)]"
      ]
     },
     "execution_count": 10,
     "metadata": {},
     "output_type": "execute_result"
    }
   ],
   "source": [
    "# continued\n",
    "import operator # you have to import operator in order to sort the multiple elements in the tuple\n",
    "\n",
    "hwybyclass = []\n",
    "for c in carclass:\n",
    "    sumhwy = 0\n",
    "    classcount = 0\n",
    "    for h in xpg:\n",
    "        if h['class'] == c:\n",
    "            sumhwy += float(h['hwy'])\n",
    "            classcount += 1\n",
    "    hwybyclass.append((c, (sumhwy / classcount)))\n",
    "hwybyclass.sort(key = operator.itemgetter(1)) # here the tuple is getting sorted using the second element\n",
    "hwybyclass                                    # that is the index-1\n"
   ]
  },
  {
   "cell_type": "markdown",
   "metadata": {},
   "source": [
    "# Pyhton Programming using Date and Time"
   ]
  },
  {
   "cell_type": "code",
   "execution_count": 11,
   "metadata": {},
   "outputs": [
    {
     "name": "stdout",
     "output_type": "stream",
     "text": [
      "1611136846.8017864\n",
      "2021-01-20 15:30:46.801786\n",
      "365 days, 11:30:00\n"
     ]
    },
    {
     "data": {
      "text/plain": [
       "'2022-01-20 15:30:46.801786'"
      ]
     },
     "execution_count": 11,
     "metadata": {},
     "output_type": "execute_result"
    }
   ],
   "source": [
    "# to use date and time in python two modules are accessed:\n",
    "\n",
    "import datetime as dt\n",
    "import time as tm\n",
    "\n",
    "today = dt.datetime.now()\n",
    "print(tm.time()) # gives the timestamp\n",
    "# today = dt.datetime.fromtimestamp(tm.time())  # you can also get todays date&time using timestamp\n",
    "print(today)\n",
    "[(today.day, today.month, today.year), (today.hour, today.minute, today.second)]\n",
    "\n",
    "# time delta module is used to estimate future and past date and time\n",
    "\n",
    "print(dt.timedelta(days = 365, hours = 11, minutes = 30))\n",
    "yearfromnow = str(dt.datetime.now() + dt.timedelta(days = 365))\n",
    "yearfromnow"
   ]
  },
  {
   "cell_type": "markdown",
   "metadata": {},
   "source": [
    "# Python programmming using classes and objects and map()"
   ]
  },
  {
   "cell_type": "code",
   "execution_count": 31,
   "metadata": {},
   "outputs": [
    {
     "name": "stdout",
     "output_type": "stream",
     "text": [
      "None\n",
      "Soham Gade living in Pune studies at Pune University\n"
     ]
    }
   ],
   "source": [
    "# to define a class, class keyword is used and the name of the class which should be in Camel case\n",
    "\n",
    "class Student:\n",
    "    uni = 'Pune University'\n",
    "    \n",
    "    def set_name(self, stud_name):\n",
    "        self.name = stud_name\n",
    "    def set_location(self, stud_loc):\n",
    "        self.location = stud_loc\n",
    "\n",
    "stud = Student()\n",
    "stud.set_name('Soham Gade')\n",
    "stud.set_location('Pune')\n",
    "print(na)\n",
    "print(f'{stud.name} living in {stud.location} studies at {stud.uni}')"
   ]
  },
  {
   "cell_type": "code",
   "execution_count": 40,
   "metadata": {},
   "outputs": [
    {
     "name": "stdout",
     "output_type": "stream",
     "text": [
      "[2, 7, 34, 22]\n"
     ]
    }
   ],
   "source": [
    "# map is using to pass a function in the map's parameters and iterators for the function to iterate \n",
    "# that is, it simultaneously executes the fuction on passed iterators\n",
    "\n",
    "store1 = [11, 42, 53, 22, 1] # so even if there's 1, there is nothing to iterate in the second list.\n",
    "store2 = [2, 7, 34, 100]     # thus map stops at 22.\n",
    "\n",
    "ans = list(map(min, store1, store2)) # this compares the two lists simultaneously on the same index\n",
    "print(ans)                           # that is, store1[0] and store2[0] is checked using min\n",
    "# this goes till the shortest iterator"
   ]
  }
 ],
 "metadata": {
  "kernelspec": {
   "display_name": "Python 3",
   "language": "python",
   "name": "python3"
  },
  "language_info": {
   "codemirror_mode": {
    "name": "ipython",
    "version": 3
   },
   "file_extension": ".py",
   "mimetype": "text/x-python",
   "name": "python",
   "nbconvert_exporter": "python",
   "pygments_lexer": "ipython3",
   "version": "3.6.8"
  }
 },
 "nbformat": 4,
 "nbformat_minor": 4
}
