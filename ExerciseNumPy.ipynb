{
 "cells": [
  {
   "cell_type": "markdown",
   "metadata": {},
   "source": [
    "# Performance difference between NumPy array and Python list"
   ]
  },
  {
   "cell_type": "code",
   "execution_count": 1,
   "metadata": {},
   "outputs": [
    {
     "name": "stdout",
     "output_type": "stream",
     "text": [
      "Wall time: 995 µs\n",
      "(100000,)\n",
      "int32\n"
     ]
    }
   ],
   "source": [
    "# numpy performance based on time\n",
    "import numpy as np\n",
    "myarr = np.arange(100000)    # the function is 'arange' similar to python built-in 'range'\n",
    "# ex1 = np.arange(5)\n",
    "# ex2 = np.arange(5)\n",
    "# ex3 = ex1 + ex2        # what numpy does is that it performs arithmetic operations on the elements\n",
    "# print(ex3)             # of array when multiplied, unlike a list which extends\n",
    "%time for _ in range(10): myarr2 = myarr * 2 \n",
    "print(myarr2.shape)  # array_name.shape  : tells you the shape (size) of the array\n",
    "print(myarr2.dtype)  # array_name.dtype  : gives you the datatype of the homogeneous data"
   ]
  },
  {
   "cell_type": "code",
   "execution_count": 2,
   "metadata": {},
   "outputs": [
    {
     "name": "stdout",
     "output_type": "stream",
     "text": [
      "Wall time: 81.8 ms\n"
     ]
    }
   ],
   "source": [
    "# python list performance for the same using a list\n",
    "\n",
    "mylis = list(range(100000))\n",
    "\n",
    "%time for _ in range(10): mylis2 = [x * 2 for x in mylis] # nested loop"
   ]
  },
  {
   "cell_type": "markdown",
   "metadata": {},
   "source": [
    "# ndarrays\n",
    "* To create an array use the array function (similar to list(), tuple() or dict())\n",
    "* You can convert any sequence like object to an array, such as a list\n",
    "* you can also include arrays in an array"
   ]
  },
  {
   "cell_type": "code",
   "execution_count": 3,
   "metadata": {},
   "outputs": [
    {
     "data": {
      "text/plain": [
       "array([1, 4, 6, 6, 3])"
      ]
     },
     "execution_count": 3,
     "metadata": {},
     "output_type": "execute_result"
    }
   ],
   "source": [
    "# for example you can convert the following list into an array using the array function\n",
    "\n",
    "data = [1, 4, 6, 6, 3]\n",
    "\n",
    "darr = np.array(data, dtype= 'int32') # data type for an array is automatically defined as per data\n",
    "darr   # you can explicity define data type using 'dtype' while creating an array"
   ]
  },
  {
   "cell_type": "markdown",
   "metadata": {},
   "source": [
    "# ndarrays can also convert nested lists into multi-dimensional arrays "
   ]
  },
  {
   "cell_type": "code",
   "execution_count": 4,
   "metadata": {},
   "outputs": [
    {
     "name": "stdout",
     "output_type": "stream",
     "text": [
      "[[2 5 7 2]\n",
      " [3 9 2 4]]\n",
      "(2, 4)\n",
      "int32\n",
      "[[1 1 1 1]\n",
      " [1 1 1 1]]\n",
      "[ 4 10]\n"
     ]
    },
    {
     "data": {
      "text/plain": [
       "(2,)"
      ]
     },
     "execution_count": 4,
     "metadata": {},
     "output_type": "execute_result"
    }
   ],
   "source": [
    "# nested list or lists within a list \n",
    "\n",
    "nesdata = [[2, 5, 7, 2], [3, 9, 2, 4]]\n",
    "\n",
    "nesarr = np.array(nesdata)\n",
    "print(nesarr)\n",
    "print(nesarr.shape) # (2, 4) where 2 is the number of arrays and 4 is the number of elements in arrays\n",
    "print(nesarr.dtype)\n",
    "\n",
    "# you can create 3-D (three dimensional) arrays using 3 parameters\n",
    "\n",
    "threearr = np.zeros((3, 2, 4), dtype = 'int32')\n",
    "threearr[0] = [[1, 3, 4, 5]]\n",
    "threearr[1] = [2, 1, 1, 2]\n",
    "threearr[2][1] = threearr[0][0] + threearr[1, 0] # [1][0] is same as [1, 0]\n",
    "threearr[2][0] = threearr[0][0] * threearr[1][0]\n",
    "# print(threearr)\n",
    "\n",
    "onarr = np.ones((2, 4), dtype = 'int32', order = 'F')\n",
    "print(onarr)\n",
    "# thus instead of threearr[2][0][2:] to slice we can use threearr[2, 0, 2:]\n",
    "cop = threearr[2, 0, 2:].copy()  # array_name.copy() is used to copy the sliced portion of array\n",
    "print(cop)    # if copy() is not used, any changes made to the slice, will change the array\n",
    "cop.shape"
   ]
  },
  {
   "cell_type": "code",
   "execution_count": 5,
   "metadata": {},
   "outputs": [
    {
     "name": "stdout",
     "output_type": "stream",
     "text": [
      "[[1 3 5]\n",
      " [3 5 6]\n",
      " [4 7 9]]\n",
      "-------------------\n",
      "[[3 5]]\n",
      "-------------------\n",
      "[[1 3]\n",
      " [3 5]\n",
      " [4 7]]\n"
     ]
    }
   ],
   "source": [
    "# array slicing \n",
    "\n",
    "arr3 = np.array([[1, 3, 5], [3, 5, 6], [4, 7, 9]])\n",
    "print(arr3)\n",
    "print('-------------------')\n",
    "print(arr3[1:2, :2])\n",
    "print('-------------------')\n",
    "print(arr3[:, :2])"
   ]
  },
  {
   "cell_type": "code",
   "execution_count": 6,
   "metadata": {},
   "outputs": [
    {
     "name": "stdout",
     "output_type": "stream",
     "text": [
      "[[ 0.14020703  0.34080298  0.84384362]\n",
      " [-1.99157448 -0.22136    -1.09676056]\n",
      " [-0.13614218  1.63250285 -0.22568595]\n",
      " [ 0.06013242 -0.77871335 -0.29592863]\n",
      " [ 0.1075587   1.27116135 -0.4509616 ]\n",
      " [-0.12957476  0.8819711   1.79440081]]\n",
      "\n",
      " [[ 0.14020703 -1.99157448 -0.13614218  0.06013242  0.1075587  -0.12957476]\n",
      " [ 0.34080298 -0.22136     1.63250285 -0.77871335  1.27116135  0.8819711 ]\n",
      " [ 0.84384362 -1.09676056 -0.22568595 -0.29592863 -0.4509616   1.79440081]]\n"
     ]
    },
    {
     "data": {
      "text/plain": [
       "array([[4.036536  , 0.24200275, 2.03450972],\n",
       "       [0.24200275, 5.83033113, 1.40173865],\n",
       "       [2.03450972, 1.40173865, 5.4767043 ]])"
      ]
     },
     "execution_count": 6,
     "metadata": {},
     "output_type": "execute_result"
    }
   ],
   "source": [
    "import math\n",
    "a = np.arange(4, 7).reshape((3, 1))\n",
    "b = np.arange(1, 4).reshape((1, 3))\n",
    "c = np.dot(a, b)\n",
    "ra = np.random.randn(6, 3)\n",
    "print(ra)\n",
    "print('\\n', ra.T)\n",
    "np.dot(ra.T, ra)"
   ]
  },
  {
   "cell_type": "code",
   "execution_count": 43,
   "metadata": {},
   "outputs": [
    {
     "name": "stdout",
     "output_type": "stream",
     "text": [
      "[ 0 -1  2 -1  4 -1  6 -1  8 -1]\n"
     ]
    },
    {
     "data": {
      "text/plain": [
       "array([[0, 1, 2, 3, 4],\n",
       "       [5, 6, 7, 8, 9]])"
      ]
     },
     "execution_count": 43,
     "metadata": {},
     "output_type": "execute_result"
    }
   ],
   "source": [
    "ex1 = np.arange(10)\n",
    "ex11 = np.copy(ex1)\n",
    "print(np.where(ex1 % 2 != 0, -1, ex1))\n",
    "ex11.reshape((2, -1))   # -1 automatically decides the number of columns"
   ]
  },
  {
   "cell_type": "code",
   "execution_count": 79,
   "metadata": {},
   "outputs": [
    {
     "data": {
      "text/plain": [
       "['E',\n",
       " 'v',\n",
       " 'e',\n",
       " 'r',\n",
       " 'y',\n",
       " 'o',\n",
       " 'n',\n",
       " 'e',\n",
       " ' ',\n",
       " 'h',\n",
       " 'a',\n",
       " 's',\n",
       " ' ',\n",
       " 't',\n",
       " 'h',\n",
       " 'e',\n",
       " ' ',\n",
       " 'f',\n",
       " 'o',\n",
       " 'l',\n",
       " 'l',\n",
       " 'o',\n",
       " 'w',\n",
       " 'i',\n",
       " 'n',\n",
       " 'g',\n",
       " ' ',\n",
       " 'f',\n",
       " 'u',\n",
       " 'n',\n",
       " 'd',\n",
       " 'a',\n",
       " 'm',\n",
       " 'e',\n",
       " 'n',\n",
       " 't',\n",
       " 'a',\n",
       " 'l',\n",
       " ' ',\n",
       " 'f',\n",
       " 'r',\n",
       " 'e',\n",
       " 'e',\n",
       " 'd',\n",
       " 'o',\n",
       " 'm',\n",
       " 's',\n",
       " ':',\n",
       " '(',\n",
       " 'a',\n",
       " ')',\n",
       " ' ',\n",
       " 'f',\n",
       " 'r',\n",
       " 'e',\n",
       " 'e',\n",
       " 'd',\n",
       " 'o',\n",
       " 'm',\n",
       " ' ',\n",
       " 'o',\n",
       " 'f',\n",
       " ' ',\n",
       " 'c',\n",
       " 'o',\n",
       " 'n',\n",
       " 's',\n",
       " 'c',\n",
       " 'i',\n",
       " 'e',\n",
       " 'n',\n",
       " 'c',\n",
       " 'e',\n",
       " ' ',\n",
       " 'a',\n",
       " 'n',\n",
       " 'd',\n",
       " ' ',\n",
       " 'r',\n",
       " 'e',\n",
       " 'l',\n",
       " 'i',\n",
       " 'g',\n",
       " 'i',\n",
       " 'o',\n",
       " 'n',\n",
       " ';',\n",
       " '(',\n",
       " 'b',\n",
       " ')',\n",
       " ' ',\n",
       " 'f',\n",
       " 'r',\n",
       " 'e',\n",
       " 'e',\n",
       " 'd',\n",
       " 'o',\n",
       " 'm',\n",
       " ' ',\n",
       " 'o',\n",
       " 'f',\n",
       " ' ',\n",
       " 't',\n",
       " 'h',\n",
       " 'o',\n",
       " 'u',\n",
       " 'g',\n",
       " 'h',\n",
       " 't',\n",
       " ',',\n",
       " ' ',\n",
       " 'b',\n",
       " 'e',\n",
       " 'l',\n",
       " 'i',\n",
       " 'e',\n",
       " 'f',\n",
       " ',',\n",
       " ' ',\n",
       " 'o',\n",
       " 'p',\n",
       " 'i',\n",
       " 'n',\n",
       " 'i',\n",
       " 'o',\n",
       " 'n',\n",
       " ' ',\n",
       " 'a',\n",
       " 'n',\n",
       " 'd',\n",
       " ' ',\n",
       " 'e',\n",
       " 'x',\n",
       " 'p',\n",
       " 'r',\n",
       " 'e',\n",
       " 's',\n",
       " 's',\n",
       " 'i',\n",
       " 'o',\n",
       " 'n',\n",
       " ',',\n",
       " ' ',\n",
       " 'i',\n",
       " 'n',\n",
       " 'c',\n",
       " 'l',\n",
       " 'u',\n",
       " 'd',\n",
       " 'i',\n",
       " 'n',\n",
       " 'g',\n",
       " ' ',\n",
       " 'f',\n",
       " 'r',\n",
       " 'e',\n",
       " 'e',\n",
       " 'd',\n",
       " 'o',\n",
       " 'm',\n",
       " ' ',\n",
       " 'o',\n",
       " 'f',\n",
       " ' ',\n",
       " 't',\n",
       " 'h',\n",
       " 'e',\n",
       " ' ',\n",
       " 'p',\n",
       " 'r',\n",
       " 'e',\n",
       " 's',\n",
       " 's',\n",
       " ' ',\n",
       " 'a',\n",
       " 'n',\n",
       " 'd',\n",
       " ' ',\n",
       " 'o',\n",
       " 't',\n",
       " 'h',\n",
       " 'e',\n",
       " 'r',\n",
       " ' ',\n",
       " 'm',\n",
       " 'e',\n",
       " 'd',\n",
       " 'i',\n",
       " 'a',\n",
       " ' ',\n",
       " 'o',\n",
       " 'f',\n",
       " ' ',\n",
       " 'c',\n",
       " 'o',\n",
       " 'm',\n",
       " 'm',\n",
       " 'u',\n",
       " 'n',\n",
       " 'i',\n",
       " 'c',\n",
       " 'a',\n",
       " 't',\n",
       " 'i',\n",
       " 'o',\n",
       " 'n',\n",
       " ';',\n",
       " '(',\n",
       " 'c',\n",
       " ')',\n",
       " ' ',\n",
       " 'f',\n",
       " 'r',\n",
       " 'e',\n",
       " 'e',\n",
       " 'd',\n",
       " 'o',\n",
       " 'm',\n",
       " ' ',\n",
       " 'o',\n",
       " 'f',\n",
       " ' ',\n",
       " 'p',\n",
       " 'e',\n",
       " 'a',\n",
       " 'c',\n",
       " 'e',\n",
       " 'f',\n",
       " 'u',\n",
       " 'l',\n",
       " ' ',\n",
       " 'a',\n",
       " 's',\n",
       " 's',\n",
       " 'e',\n",
       " 'm',\n",
       " 'b',\n",
       " 'l',\n",
       " 'y',\n",
       " ';',\n",
       " ' ',\n",
       " 'a',\n",
       " 'n',\n",
       " 'd',\n",
       " '(',\n",
       " 'd',\n",
       " ')',\n",
       " ' ',\n",
       " 'f',\n",
       " 'r',\n",
       " 'e',\n",
       " 'e',\n",
       " 'd',\n",
       " 'o',\n",
       " 'm',\n",
       " ' ',\n",
       " 'o',\n",
       " 'f',\n",
       " ' ',\n",
       " 'a',\n",
       " 's',\n",
       " 's',\n",
       " 'o',\n",
       " 'c',\n",
       " 'i',\n",
       " 'a',\n",
       " 't',\n",
       " 'i',\n",
       " 'o',\n",
       " 'n',\n",
       " '.']"
      ]
     },
     "execution_count": 79,
     "metadata": {},
     "output_type": "execute_result"
    }
   ],
   "source": [
    "a5 = np.linspace(1 ,4, 4)\n",
    "a4 = np.arange(36).reshape((6, 6))\n",
    "# print(a4)\n",
    "import re\n",
    "text=r'''Everyone has the following fundamental freedoms:\n",
    "(a) freedom of conscience and religion;\n",
    "(b) freedom of thought, belief, opinion and expression, including freedom of the press and other media of communication;\n",
    "(c) freedom of peaceful assembly; and\n",
    "(d) freedom of association.\n",
    "'''\n",
    "re.findall('(.)', text)"
   ]
  }
 ],
 "metadata": {
  "kernelspec": {
   "display_name": "Python 3",
   "language": "python",
   "name": "python3"
  },
  "language_info": {
   "codemirror_mode": {
    "name": "ipython",
    "version": 3
   },
   "file_extension": ".py",
   "mimetype": "text/x-python",
   "name": "python",
   "nbconvert_exporter": "python",
   "pygments_lexer": "ipython3",
   "version": "3.6.8"
  }
 },
 "nbformat": 4,
 "nbformat_minor": 4
}
