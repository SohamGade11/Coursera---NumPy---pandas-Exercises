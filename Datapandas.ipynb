{
 "cells": [
  {
   "cell_type": "markdown",
   "metadata": {},
   "source": [
    "# Data loading, storage and file formats\n",
    "### using pandas library in python\n",
    "Getting a data from the outsource is an important step to use the data manipulation tools in Data science. There are various ways in which one can load data along with various kinds of data formats.\n",
    "In pandas there are different types of methods used to load different data formats, some of the following are:\n",
    "\n",
    "* read_csv : This is the most commonly used data format and uses ' , ' (commas) as delimiter\n",
    "* read_json : To load data that is in the json format\n",
    "* read_html : This reads all the tables in the given html document\n",
    "* read_excel , read_table, etc."
   ]
  },
  {
   "cell_type": "code",
   "execution_count": 19,
   "metadata": {},
   "outputs": [
    {
     "data": {
      "text/html": [
       "<div>\n",
       "<style scoped>\n",
       "    .dataframe tbody tr th:only-of-type {\n",
       "        vertical-align: middle;\n",
       "    }\n",
       "\n",
       "    .dataframe tbody tr th {\n",
       "        vertical-align: top;\n",
       "    }\n",
       "\n",
       "    .dataframe thead th {\n",
       "        text-align: right;\n",
       "    }\n",
       "</style>\n",
       "<table border=\"1\" class=\"dataframe\">\n",
       "  <thead>\n",
       "    <tr style=\"text-align: right;\">\n",
       "      <th></th>\n",
       "      <th>a</th>\n",
       "      <th>b</th>\n",
       "      <th>c</th>\n",
       "      <th>d</th>\n",
       "      <th>message</th>\n",
       "    </tr>\n",
       "  </thead>\n",
       "  <tbody>\n",
       "    <tr>\n",
       "      <th>0</th>\n",
       "      <td>1</td>\n",
       "      <td>2</td>\n",
       "      <td>3</td>\n",
       "      <td>4</td>\n",
       "      <td>hello</td>\n",
       "    </tr>\n",
       "    <tr>\n",
       "      <th>1</th>\n",
       "      <td>5</td>\n",
       "      <td>6</td>\n",
       "      <td>7</td>\n",
       "      <td>8</td>\n",
       "      <td>world</td>\n",
       "    </tr>\n",
       "    <tr>\n",
       "      <th>2</th>\n",
       "      <td>9</td>\n",
       "      <td>10</td>\n",
       "      <td>11</td>\n",
       "      <td>12</td>\n",
       "      <td>fefifofum</td>\n",
       "    </tr>\n",
       "  </tbody>\n",
       "</table>\n",
       "</div>"
      ],
      "text/plain": [
       "   a   b   c   d    message\n",
       "0  1   2   3   4      hello\n",
       "1  5   6   7   8      world\n",
       "2  9  10  11  12  fefifofum"
      ]
     },
     "execution_count": 19,
     "metadata": {},
     "output_type": "execute_result"
    }
   ],
   "source": [
    "# to form a hierachical indexing you can insert two columns inside the index_col attritute while\n",
    "# reading a csv file, or any file.\n",
    "# for example:   pd.read_csv('data/ex1.csv', index_col = ['key1', key2])\n",
    "\n",
    "\n",
    "# you skip unwanted rows in a csv file using the 'skiprows = ' attribute\n",
    "\n",
    "# 'parse_dates' is used to parse date and time that are spreaded over a vast number of columns \n",
    "# it is false by default, it set to true, it will parse all the columns automatically or you can\n",
    "# mention a list of column numbers or names specifically to parse\n",
    "\n",
    "# to write a csv file manually using a deliminator you can do it using the 'writer' method present\n",
    "# in the csv module.\n",
    "\n",
    "import csv\n",
    "with open('ex1.csv', 'w') as file:\n",
    "    writer =  csv.writer(file, delimiter = ',')\n",
    "    writer.writerow(('a', 'b', 'c', 'd', 'message'))\n",
    "    writer.writerow((1, 2, 3, 4, 'hello'))\n",
    "    writer.writerow((5, 6, 7, 8, 'world'))\n",
    "    writer.writerow((9, 10, 11, 12, 'fefifofum'))\n",
    "    \n",
    "# the values while writing a csv file manually should be put in a tuple form\n",
    "\n",
    "import pandas as pd\n",
    "\n",
    "file = pd.read_csv('ex1.csv')\n",
    "file"
   ]
  },
  {
   "cell_type": "markdown",
   "metadata": {},
   "source": [
    "# JSON\n",
    "There are various ways in which you can load a json file in the pandas: following of the some are shown below"
   ]
  },
  {
   "cell_type": "code",
   "execution_count": 20,
   "metadata": {},
   "outputs": [],
   "source": [
    "# import json\n",
    "\n",
    "# file = json.loads('file_name')  'json.loads' will return the data in dicts and lists format\n",
    "# 'json.dumps' converts a python object back to JSON\n",
    "\n",
    "# you can use 'pd.read_json()' (this aussumes that reach object in json is a row)\n"
   ]
  },
  {
   "cell_type": "markdown",
   "metadata": {},
   "source": [
    "# HTML AND XML (Web Scraping)\n",
    "In python there are various libraries used to get data from the html and xml documents present on the \n",
    "internet. This process is called web scraping \n",
    "\n",
    "## Pandas (pd.read_html) uses lxml and BeautifulSoup properties and automatically parses HTML tables as a Dataframe object (before using 'read_html' you will have to install BeautifulSoup and lxml libraries \n",
    "*pip install beautifulsoup4 html5lib* || *pip install lmxl*"
   ]
  },
  {
   "cell_type": "code",
   "execution_count": 23,
   "metadata": {},
   "outputs": [],
   "source": [
    "# pd.read_html() by default searches for tables inside the <table> on the html pages"
   ]
  },
  {
   "cell_type": "markdown",
   "metadata": {},
   "source": [
    "# dropna(how = 'all')  || similarly, for columns, pass axis = 1 || dropna(axis = 1, how = 'all')\n",
    "## will only remove the rows that are all NaN"
   ]
  }
 ],
 "metadata": {
  "kernelspec": {
   "display_name": "Python 3",
   "language": "python",
   "name": "python3"
  },
  "language_info": {
   "codemirror_mode": {
    "name": "ipython",
    "version": 3
   },
   "file_extension": ".py",
   "mimetype": "text/x-python",
   "name": "python",
   "nbconvert_exporter": "python",
   "pygments_lexer": "ipython3",
   "version": "3.6.8"
  }
 },
 "nbformat": 4,
 "nbformat_minor": 4
}
